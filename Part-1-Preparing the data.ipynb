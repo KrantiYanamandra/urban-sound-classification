{
 "cells": [
  {
   "cell_type": "markdown",
   "metadata": {},
   "source": [
    "### Imports"
   ]
  },
  {
   "cell_type": "code",
   "execution_count": 1,
   "metadata": {},
   "outputs": [],
   "source": [
    "import warnings\n",
    "import os\n",
    "import glob\n",
    "import numpy as np\n",
    "import pandas as pd\n",
    "import librosa as ls\n",
    "import librosa.display as lsd\n",
    "from sklearn.model_selection import StratifiedShuffleSplit\n",
    "from sklearn.preprocessing import MinMaxScaler, LabelBinarizer\n",
    "from tqdm import tqdm\n",
    "import matplotlib.pyplot as plt\n",
    "%matplotlib inline"
   ]
  },
  {
   "cell_type": "markdown",
   "metadata": {},
   "source": [
    "### Specify parent directory containing audio and metadata"
   ]
  },
  {
   "cell_type": "code",
   "execution_count": 2,
   "metadata": {},
   "outputs": [],
   "source": [
    "parent_dir = os.path.dirname('../UrbanSound8K/')"
   ]
  },
  {
   "cell_type": "code",
   "execution_count": 3,
   "metadata": {},
   "outputs": [],
   "source": [
    "metadata = pd.read_csv(os.path.join(parent_dir, 'metadata/UrbanSound8K.csv'))"
   ]
  },
  {
   "cell_type": "code",
   "execution_count": 4,
   "metadata": {},
   "outputs": [
    {
     "data": {
      "text/html": [
       "<div>\n",
       "<style scoped>\n",
       "    .dataframe tbody tr th:only-of-type {\n",
       "        vertical-align: middle;\n",
       "    }\n",
       "\n",
       "    .dataframe tbody tr th {\n",
       "        vertical-align: top;\n",
       "    }\n",
       "\n",
       "    .dataframe thead th {\n",
       "        text-align: right;\n",
       "    }\n",
       "</style>\n",
       "<table border=\"1\" class=\"dataframe\">\n",
       "  <thead>\n",
       "    <tr style=\"text-align: right;\">\n",
       "      <th></th>\n",
       "      <th>slice_file_name</th>\n",
       "      <th>fsID</th>\n",
       "      <th>start</th>\n",
       "      <th>end</th>\n",
       "      <th>salience</th>\n",
       "      <th>fold</th>\n",
       "      <th>classID</th>\n",
       "      <th>class</th>\n",
       "    </tr>\n",
       "  </thead>\n",
       "  <tbody>\n",
       "    <tr>\n",
       "      <th>0</th>\n",
       "      <td>100032-3-0-0.wav</td>\n",
       "      <td>100032</td>\n",
       "      <td>0.0</td>\n",
       "      <td>0.317551</td>\n",
       "      <td>1</td>\n",
       "      <td>5</td>\n",
       "      <td>3</td>\n",
       "      <td>dog_bark</td>\n",
       "    </tr>\n",
       "    <tr>\n",
       "      <th>1</th>\n",
       "      <td>100263-2-0-117.wav</td>\n",
       "      <td>100263</td>\n",
       "      <td>58.5</td>\n",
       "      <td>62.500000</td>\n",
       "      <td>1</td>\n",
       "      <td>5</td>\n",
       "      <td>2</td>\n",
       "      <td>children_playing</td>\n",
       "    </tr>\n",
       "    <tr>\n",
       "      <th>2</th>\n",
       "      <td>100263-2-0-121.wav</td>\n",
       "      <td>100263</td>\n",
       "      <td>60.5</td>\n",
       "      <td>64.500000</td>\n",
       "      <td>1</td>\n",
       "      <td>5</td>\n",
       "      <td>2</td>\n",
       "      <td>children_playing</td>\n",
       "    </tr>\n",
       "    <tr>\n",
       "      <th>3</th>\n",
       "      <td>100263-2-0-126.wav</td>\n",
       "      <td>100263</td>\n",
       "      <td>63.0</td>\n",
       "      <td>67.000000</td>\n",
       "      <td>1</td>\n",
       "      <td>5</td>\n",
       "      <td>2</td>\n",
       "      <td>children_playing</td>\n",
       "    </tr>\n",
       "    <tr>\n",
       "      <th>4</th>\n",
       "      <td>100263-2-0-137.wav</td>\n",
       "      <td>100263</td>\n",
       "      <td>68.5</td>\n",
       "      <td>72.500000</td>\n",
       "      <td>1</td>\n",
       "      <td>5</td>\n",
       "      <td>2</td>\n",
       "      <td>children_playing</td>\n",
       "    </tr>\n",
       "  </tbody>\n",
       "</table>\n",
       "</div>"
      ],
      "text/plain": [
       "      slice_file_name    fsID  start        end  salience  fold  classID  \\\n",
       "0    100032-3-0-0.wav  100032    0.0   0.317551         1     5        3   \n",
       "1  100263-2-0-117.wav  100263   58.5  62.500000         1     5        2   \n",
       "2  100263-2-0-121.wav  100263   60.5  64.500000         1     5        2   \n",
       "3  100263-2-0-126.wav  100263   63.0  67.000000         1     5        2   \n",
       "4  100263-2-0-137.wav  100263   68.5  72.500000         1     5        2   \n",
       "\n",
       "              class  \n",
       "0          dog_bark  \n",
       "1  children_playing  \n",
       "2  children_playing  \n",
       "3  children_playing  \n",
       "4  children_playing  "
      ]
     },
     "execution_count": 4,
     "metadata": {},
     "output_type": "execute_result"
    }
   ],
   "source": [
    "metadata.head()"
   ]
  },
  {
   "cell_type": "code",
   "execution_count": 5,
   "metadata": {},
   "outputs": [
    {
     "data": {
      "text/plain": [
       "8732"
      ]
     },
     "execution_count": 5,
     "metadata": {},
     "output_type": "execute_result"
    }
   ],
   "source": [
    "len(metadata)"
   ]
  },
  {
   "cell_type": "code",
   "execution_count": 6,
   "metadata": {},
   "outputs": [
    {
     "data": {
      "text/html": [
       "<div>\n",
       "<style scoped>\n",
       "    .dataframe tbody tr th:only-of-type {\n",
       "        vertical-align: middle;\n",
       "    }\n",
       "\n",
       "    .dataframe tbody tr th {\n",
       "        vertical-align: top;\n",
       "    }\n",
       "\n",
       "    .dataframe thead th {\n",
       "        text-align: right;\n",
       "    }\n",
       "</style>\n",
       "<table border=\"1\" class=\"dataframe\">\n",
       "  <thead>\n",
       "    <tr style=\"text-align: right;\">\n",
       "      <th></th>\n",
       "      <th>slice_file_name</th>\n",
       "      <th>fsID</th>\n",
       "      <th>start</th>\n",
       "      <th>end</th>\n",
       "      <th>salience</th>\n",
       "      <th>fold</th>\n",
       "      <th>classID</th>\n",
       "      <th>class</th>\n",
       "    </tr>\n",
       "  </thead>\n",
       "  <tbody>\n",
       "    <tr>\n",
       "      <th>0</th>\n",
       "      <td>100032-3-0-0.wav</td>\n",
       "      <td>100032</td>\n",
       "      <td>0.000000</td>\n",
       "      <td>0.317551</td>\n",
       "      <td>1</td>\n",
       "      <td>5</td>\n",
       "      <td>3</td>\n",
       "      <td>dog_bark</td>\n",
       "    </tr>\n",
       "    <tr>\n",
       "      <th>1</th>\n",
       "      <td>100263-2-0-117.wav</td>\n",
       "      <td>100263</td>\n",
       "      <td>58.500000</td>\n",
       "      <td>62.500000</td>\n",
       "      <td>1</td>\n",
       "      <td>5</td>\n",
       "      <td>2</td>\n",
       "      <td>children_playing</td>\n",
       "    </tr>\n",
       "    <tr>\n",
       "      <th>9</th>\n",
       "      <td>100648-1-0-0.wav</td>\n",
       "      <td>100648</td>\n",
       "      <td>4.823402</td>\n",
       "      <td>5.471927</td>\n",
       "      <td>2</td>\n",
       "      <td>10</td>\n",
       "      <td>1</td>\n",
       "      <td>car_horn</td>\n",
       "    </tr>\n",
       "    <tr>\n",
       "      <th>22</th>\n",
       "      <td>100852-0-0-0.wav</td>\n",
       "      <td>100852</td>\n",
       "      <td>0.000000</td>\n",
       "      <td>4.000000</td>\n",
       "      <td>1</td>\n",
       "      <td>5</td>\n",
       "      <td>0</td>\n",
       "      <td>air_conditioner</td>\n",
       "    </tr>\n",
       "    <tr>\n",
       "      <th>94</th>\n",
       "      <td>101848-9-0-0.wav</td>\n",
       "      <td>101848</td>\n",
       "      <td>0.000000</td>\n",
       "      <td>4.000000</td>\n",
       "      <td>1</td>\n",
       "      <td>7</td>\n",
       "      <td>9</td>\n",
       "      <td>street_music</td>\n",
       "    </tr>\n",
       "    <tr>\n",
       "      <th>106</th>\n",
       "      <td>102305-6-0-0.wav</td>\n",
       "      <td>102305</td>\n",
       "      <td>0.000000</td>\n",
       "      <td>2.611610</td>\n",
       "      <td>1</td>\n",
       "      <td>1</td>\n",
       "      <td>6</td>\n",
       "      <td>gun_shot</td>\n",
       "    </tr>\n",
       "    <tr>\n",
       "      <th>114</th>\n",
       "      <td>102853-8-0-0.wav</td>\n",
       "      <td>102853</td>\n",
       "      <td>0.000000</td>\n",
       "      <td>4.000000</td>\n",
       "      <td>2</td>\n",
       "      <td>7</td>\n",
       "      <td>8</td>\n",
       "      <td>siren</td>\n",
       "    </tr>\n",
       "    <tr>\n",
       "      <th>122</th>\n",
       "      <td>102857-5-0-0.wav</td>\n",
       "      <td>102857</td>\n",
       "      <td>0.000000</td>\n",
       "      <td>4.000000</td>\n",
       "      <td>1</td>\n",
       "      <td>10</td>\n",
       "      <td>5</td>\n",
       "      <td>engine_idling</td>\n",
       "    </tr>\n",
       "    <tr>\n",
       "      <th>171</th>\n",
       "      <td>103074-7-0-0.wav</td>\n",
       "      <td>103074</td>\n",
       "      <td>3.341279</td>\n",
       "      <td>7.341279</td>\n",
       "      <td>1</td>\n",
       "      <td>1</td>\n",
       "      <td>7</td>\n",
       "      <td>jackhammer</td>\n",
       "    </tr>\n",
       "    <tr>\n",
       "      <th>196</th>\n",
       "      <td>103199-4-0-0.wav</td>\n",
       "      <td>103199</td>\n",
       "      <td>0.000000</td>\n",
       "      <td>4.000000</td>\n",
       "      <td>1</td>\n",
       "      <td>3</td>\n",
       "      <td>4</td>\n",
       "      <td>drilling</td>\n",
       "    </tr>\n",
       "  </tbody>\n",
       "</table>\n",
       "</div>"
      ],
      "text/plain": [
       "        slice_file_name    fsID      start        end  salience  fold  \\\n",
       "0      100032-3-0-0.wav  100032   0.000000   0.317551         1     5   \n",
       "1    100263-2-0-117.wav  100263  58.500000  62.500000         1     5   \n",
       "9      100648-1-0-0.wav  100648   4.823402   5.471927         2    10   \n",
       "22     100852-0-0-0.wav  100852   0.000000   4.000000         1     5   \n",
       "94     101848-9-0-0.wav  101848   0.000000   4.000000         1     7   \n",
       "106    102305-6-0-0.wav  102305   0.000000   2.611610         1     1   \n",
       "114    102853-8-0-0.wav  102853   0.000000   4.000000         2     7   \n",
       "122    102857-5-0-0.wav  102857   0.000000   4.000000         1    10   \n",
       "171    103074-7-0-0.wav  103074   3.341279   7.341279         1     1   \n",
       "196    103199-4-0-0.wav  103199   0.000000   4.000000         1     3   \n",
       "\n",
       "     classID             class  \n",
       "0          3          dog_bark  \n",
       "1          2  children_playing  \n",
       "9          1          car_horn  \n",
       "22         0   air_conditioner  \n",
       "94         9      street_music  \n",
       "106        6          gun_shot  \n",
       "114        8             siren  \n",
       "122        5     engine_idling  \n",
       "171        7        jackhammer  \n",
       "196        4          drilling  "
      ]
     },
     "execution_count": 6,
     "metadata": {},
     "output_type": "execute_result"
    }
   ],
   "source": [
    "metadata.drop_duplicates('class')"
   ]
  },
  {
   "cell_type": "markdown",
   "metadata": {},
   "source": [
    "### Visualising the dataset"
   ]
  },
  {
   "cell_type": "code",
   "execution_count": 7,
   "metadata": {},
   "outputs": [
    {
     "data": {
      "text/plain": [
       "<matplotlib.axes._subplots.AxesSubplot at 0x1123e7710>"
      ]
     },
     "execution_count": 7,
     "metadata": {},
     "output_type": "execute_result"
    },
    {
     "data": {
      "image/png": "[encoded data removed]",
      "text/plain": [
       "<Figure size 576x432 with 1 Axes>"
      ]
     },
     "metadata": {},
     "output_type": "display_data"
    }
   ],
   "source": [
    "metadata['class'].value_counts().plot(kind='bar', figsize=(8,6))"
   ]
  },
  {
   "cell_type": "code",
   "execution_count": 8,
   "metadata": {},
   "outputs": [],
   "source": [
    "sound_dir = os.path.join(parent_dir, 'audio')"
   ]
  },
  {
   "cell_type": "markdown",
   "metadata": {},
   "source": [
    "### Feature extraction\n",
    "\n",
    "CNN and RNN features are extracted as equal-sized segments from the sound clips. The CNN uses the melspecgram with segments of size 60X41 (60 rows/bands and 41 columns/frames), and a hop length of 512 (hop length is the number of samples between successive frames). The RNN uses mfcc with segments of 20X41 and a hop length of 512."
   ]
  },
  {
   "cell_type": "code",
   "execution_count": 9,
   "metadata": {},
   "outputs": [],
   "source": [
    "oof = open('file_exceptions.txt', 'w') # redirect error exceptions for make_features()\n",
    "\n",
    "def windows(data, window_size):\n",
    "    \n",
    "    ' Generate equal-sized segments from the sounds (for CNN and RNN). '\n",
    "    ' Sounds with a longer duration generate more features. '\n",
    "    \n",
    "    start = 0\n",
    "    while start < len(data):\n",
    "        yield start, start + window_size\n",
    "        # For a window-size of 1024, hop-length of 512 is needed.\n",
    "        start += (window_size / 2)\n",
    "\n",
    "def make_features(data, cnnbands=60, rnnbands=20, frames=41, window_size=512*40):\n",
    "    \n",
    "    ' Extract features from sound files. '\n",
    "    ' Three different types of features are extracted: '\n",
    "    ' MLP: chroma, mfcc, tonnetz, melspecgram '\n",
    "    ' CNN: segments of melspecgram '\n",
    "    ' RNN: segments of mfcc '\n",
    "    \n",
    "    try:      \n",
    "        # Load and decode the audio as:\n",
    "        # 1) time series ts - a 1D array\n",
    "        # 2) variable sr - sampling rate of ts (samples per second of audio).\n",
    "        ts, sr = ls.load(data, res_type='kaiser_fast') \n",
    "        \n",
    "        # Compute the short-time Fourier transform (stft):\n",
    "        # 1) divide a longer time signal into shorter segments of equal length\n",
    "        # 2) map to a sinusoidal basis.\n",
    "        # Output is a matrix D(f,t) such that |D(f,t)| is the magnitude of frequency bin f at time t.\n",
    "        stft = np.abs(ls.stft(ts))\n",
    "\n",
    "        # Note that for \"mel\" and \"mfcc\" features, spectra are mapped to the mel basis.\n",
    "        # This approximates the mapping of frequqncies to patches of nerves in the cochlea.\n",
    "        # Doing so lets you use spectral information in about the same way as human hearing.\n",
    "        \n",
    "        # Project the entire spectrum onto 12 bins representing the 12 semitones of the musical octave.\n",
    "        # Then take the mean along each bin to generate 12 features.\n",
    "        chroma = np.mean(ls.feature.chroma_stft(S=stft, sr=sr).T, axis=0)\n",
    "        \n",
    "        # Compute the mel-frequency cepstral coefficients (MFCC):\n",
    "        # 1) map the powerspectrum of the stft onto the mel scale (pitch instead of frequency).\n",
    "        # 2) take log of the powers at each frequency.\n",
    "        # 3) take a cosine transform of these log powers.\n",
    "        # 4) MFCCs are the amplitudes of the resulting spectrum, shape=[n_mfcc,time].\n",
    "        # Then take the mean along the first axis, generating 40 features.\n",
    "        mfcc = np.mean(ls.feature.mfcc(y=ts, sr=sr, n_mfcc=40).T, axis=0)\n",
    "        \n",
    "        # Compute tonal centroid features by transforming the 12 bin chromas to 6D vectors.\n",
    "        # Then take the mean along each dimension to generate 6 features. \n",
    "        tonnetz = np.mean(ls.feature.tonnetz(y=ls.effects.harmonic(ts), sr=sr).T, axis=0)\n",
    "        \n",
    "        # Compute the spectogram of the stft and map to the mel scale, shape=[n_mels,time].\n",
    "        # Then take the mean along the first axis, generating 128 features.\n",
    "        mel = np.mean(ls.feature.melspectrogram(ts, sr=sr).T,axis=0)\n",
    "        \n",
    "        # So far the total number of features is 12+40+6+128 = 186 features. \n",
    "        # These will be the features used in the Multilayer Perceptron model.\n",
    "        mlpfeatures = np.concatenate([chroma,mfcc,tonnetz,mel])\n",
    "\n",
    "        # For CNN and RNN, features are extracted from equal-sized segments of the sound clips.\n",
    "        # CNN features are just the mel spectrograms (based off the paper linked above).\n",
    "        # RNN features are the MFCCs (in an effort to try different features than CNN's).\n",
    "        \n",
    "        # CNN features\n",
    "        specgrams = []\n",
    "        for start,end in windows(ts,window_size):\n",
    "            start = int(start)\n",
    "            end = int(end)\n",
    "            if len(ts[start:end]) == window_size :\n",
    "                signal = ts[start:end]\n",
    "                melspec = ls.feature.melspectrogram(signal, n_mels=cnnbands)\n",
    "                melspec = ls.amplitude_to_db(melspec) # logarithmic units\n",
    "                melspec = melspec.T.flatten()[:, np.newaxis].T # expand dim to help with reshaping\n",
    "                specgrams.append(melspec)\n",
    "        specgrams = np.asarray(specgrams).reshape(len(specgrams),cnnbands,frames,1)\n",
    "        cnnfeatures = np.concatenate((specgrams, np.zeros(np.shape(specgrams))), axis=3)\n",
    "        for i in range(len(cnnfeatures)):\n",
    "            # Estimate first-order derivatives of each feature dimension.\n",
    "            # This will be the second channel for CNN features.\n",
    "            cnnfeatures[i, :, :, 1] = ls.feature.delta(cnnfeatures[i, :, :, 0])\n",
    "\n",
    "        # RNN features\n",
    "        mfccs = []\n",
    "        for start,end in windows(ts,window_size):\n",
    "            start = int(start)\n",
    "            end = int(end)\n",
    "            if len(ts[start:end]) == window_size :\n",
    "                signal = ts[start:end]\n",
    "                rnn_mfcc = ls.feature.mfcc(y=signal, sr=sr, n_mfcc=rnnbands)\n",
    "                rnn_mfcc = rnn_mfcc.T.flatten()[:, np.newaxis].T\n",
    "                mfccs.append(rnn_mfcc)\n",
    "        rnnfeatures = np.asarray(mfccs).reshape(len(mfccs),rnnbands,frames)\n",
    "\n",
    "        return mlpfeatures,cnnfeatures,rnnfeatures\n",
    "    \n",
    "    except Exception as e:\n",
    "        # print to file f\n",
    "        print(os.path.basename(os.path.normpath(data)), file=oof)\n",
    "        \n",
    "\n",
    "def make_labels(data):\n",
    "    \n",
    "    ' Extract target class from the filepath. '\n",
    "    \n",
    "    label = data.split('-')[1]\n",
    "    return int(label)"
   ]
  },
  {
   "cell_type": "code",
   "execution_count": 10,
   "metadata": {},
   "outputs": [],
   "source": [
    "example = os.path.join(sound_dir, 'fold1/7383-3-0-0.wav')"
   ]
  },
  {
   "cell_type": "code",
   "execution_count": 11,
   "metadata": {},
   "outputs": [
    {
     "name": "stdout",
     "output_type": "stream",
     "text": [
      "file path = ../UrbanSound8K/audio/fold1/7383-3-0-0.wav\n",
      "\n",
      "label: 3\n",
      "MLP features shape: (186,)\n",
      "CNN features shape: (7, 60, 41, 2)\n",
      "RNN features shape: (7, 20, 41)\n"
     ]
    }
   ],
   "source": [
    "print(\"file path =\", example)\n",
    "print('')\n",
    "print(\"label:\", make_labels(example))\n",
    "featmlp = make_features(example)[0]\n",
    "print('MLP features shape:', featmlp.shape)\n",
    "featcnn = make_features(example)[1]\n",
    "print('CNN features shape:', featcnn.shape)\n",
    "featrnn = make_features(example)[2]\n",
    "print('RNN features shape:', featrnn.shape)"
   ]
  },
  {
   "cell_type": "code",
   "execution_count": 12,
   "metadata": {},
   "outputs": [],
   "source": [
    "file_extension='*.wav'\n",
    "sub_dirs=['fold1','fold2','fold3','fold4','fold5','fold6','fold7','fold8','fold9','fold10']"
   ]
  },
  {
   "cell_type": "code",
   "execution_count": 13,
   "metadata": {},
   "outputs": [],
   "source": [
    "sounds=[]\n",
    "for i, sub_dir in enumerate(sub_dirs):\n",
    "    for filename in glob.glob(os.path.join(sound_dir,sub_dir,file_extension)):\n",
    "        sounds.append(filename)"
   ]
  },
  {
   "cell_type": "code",
   "execution_count": 18,
   "metadata": {},
   "outputs": [
    {
     "data": {
      "text/plain": [
       "['../UrbanSound8K/audio/fold10/118558-5-2-1.wav',\n",
       " '../UrbanSound8K/audio/fold10/178826-2-0-17.wav',\n",
       " '../UrbanSound8K/audio/fold10/73524-0-0-105.wav',\n",
       " '../UrbanSound8K/audio/fold10/136558-9-1-21.wav',\n",
       " '../UrbanSound8K/audio/fold10/93567-8-0-13.wav',\n",
       " '../UrbanSound8K/audio/fold10/88121-8-0-0.wav',\n",
       " '../UrbanSound8K/audio/fold10/189982-0-0-42.wav',\n",
       " '../UrbanSound8K/audio/fold10/74364-8-1-7.wav',\n",
       " '../UrbanSound8K/audio/fold10/99192-4-0-7.wav',\n",
       " '../UrbanSound8K/audio/fold10/101382-2-0-33.wav']"
      ]
     },
     "execution_count": 18,
     "metadata": {},
     "output_type": "execute_result"
    }
   ],
   "source": [
    "sounds[-10::]"
   ]
  },
  {
   "cell_type": "code",
   "execution_count": 15,
   "metadata": {},
   "outputs": [
    {
     "name": "stderr",
     "output_type": "stream",
     "text": [
      "100%|██████████| 8732/8732 [55:49<00:00,  2.49it/s] \n"
     ]
    }
   ],
   "source": [
    "warnings.filterwarnings(\"ignore\")\n",
    "\n",
    "# list of all .wav files in sound_dir\n",
    "sounds=sounds\n",
    "\n",
    "labels = []\n",
    "mlpfeatures = []\n",
    "cnnfeatures = []\n",
    "rnnfeatures = []\n",
    "\n",
    "# parsing each sound file to extract features and labels\n",
    "for i in tqdm(range((len(sounds)))):\n",
    "    audio_file = os.path.join(os.getcwd(), sounds[i])\n",
    "    f = make_features(audio_file)\n",
    "    if f is not None and len(f[0])>0 and len(f[1])>0 and len(f[2])>0:\n",
    "        labels.append(make_labels(audio_file))\n",
    "        mlpfeatures.append(np.array(f[0]))\n",
    "        cnnfeatures.append(np.array(f[1]))\n",
    "        rnnfeatures.append(np.array(f[2]))\n",
    "oof.close()\n",
    "\n",
    "labels = np.array(labels)\n",
    "mlpfeatures = np.array(mlpfeatures)\n",
    "cnnfeatures = np.array(cnnfeatures)\n",
    "rnnfeatures = np.array(rnnfeatures)"
   ]
  },
  {
   "cell_type": "code",
   "execution_count": 16,
   "metadata": {},
   "outputs": [
    {
     "name": "stdout",
     "output_type": "stream",
     "text": [
      "MLP features shape: (8319, 186)\n",
      "CNN features shape: (8319,)\n",
      "RNN features shape: (8319,)\n"
     ]
    }
   ],
   "source": [
    "print('MLP features shape:', mlpfeatures.shape)\n",
    "print('CNN features shape:', cnnfeatures.shape)\n",
    "print('RNN features shape:', rnnfeatures.shape)"
   ]
  },
  {
   "cell_type": "code",
   "execution_count": 17,
   "metadata": {},
   "outputs": [
    {
     "data": {
      "text/plain": [
       "[(7, 60, 41, 2),\n",
       " (1, 60, 41, 2),\n",
       " (7, 60, 41, 2),\n",
       " (7, 60, 41, 2),\n",
       " (5, 60, 41, 2)]"
      ]
     },
     "execution_count": 17,
     "metadata": {},
     "output_type": "execute_result"
    }
   ],
   "source": [
    "[i.shape for i in cnnfeatures[:5]]"
   ]
  },
  {
   "cell_type": "code",
   "execution_count": 18,
   "metadata": {},
   "outputs": [
    {
     "data": {
      "text/plain": [
       "[(7, 20, 41), (1, 20, 41), (7, 20, 41), (7, 20, 41), (5, 20, 41)]"
      ]
     },
     "execution_count": 18,
     "metadata": {},
     "output_type": "execute_result"
    }
   ],
   "source": [
    "[i.shape for i in rnnfeatures[:5]]"
   ]
  },
  {
   "cell_type": "code",
   "execution_count": 31,
   "metadata": {},
   "outputs": [],
   "source": [
    "labelsFULL = []\n",
    "cnnfeaturesFULL = []\n",
    "rnnfeaturesFULL = []\n",
    "\n",
    "for idx,item in enumerate(cnnfeatures):\n",
    "    full = np.split(item, item.shape[0])\n",
    "    for k in full:\n",
    "        cnnfeaturesFULL.append(np.squeeze(k))\n",
    "        labelsFULL.append(labels[idx])\n",
    "for idx,item in enumerate(rnnfeatures):\n",
    "    full = np.split(item, item.shape[0])\n",
    "    for k in full:\n",
    "        rnnfeaturesFULL.append(np.squeeze(k))"
   ]
  },
  {
   "cell_type": "code",
   "execution_count": 42,
   "metadata": {},
   "outputs": [
    {
     "data": {
      "text/plain": [
       "[(60, 41, 2),\n",
       " (60, 41, 2),\n",
       " (60, 41, 2),\n",
       " (60, 41, 2),\n",
       " (60, 41, 2),\n",
       " (60, 41, 2),\n",
       " (60, 41, 2),\n",
       " (60, 41, 2),\n",
       " (60, 41, 2),\n",
       " (60, 41, 2)]"
      ]
     },
     "execution_count": 42,
     "metadata": {},
     "output_type": "execute_result"
    }
   ],
   "source": [
    "[i.shape for i in cnnfeaturesFULL[:10]]"
   ]
  },
  {
   "cell_type": "code",
   "execution_count": 43,
   "metadata": {},
   "outputs": [
    {
     "data": {
      "text/plain": [
       "[(20, 41),\n",
       " (20, 41),\n",
       " (20, 41),\n",
       " (20, 41),\n",
       " (20, 41),\n",
       " (20, 41),\n",
       " (20, 41),\n",
       " (20, 41),\n",
       " (20, 41),\n",
       " (20, 41)]"
      ]
     },
     "execution_count": 43,
     "metadata": {},
     "output_type": "execute_result"
    }
   ],
   "source": [
    "[i.shape for i in rnnfeaturesFULL[:10]]"
   ]
  },
  {
   "cell_type": "code",
   "execution_count": 48,
   "metadata": {},
   "outputs": [
    {
     "data": {
      "text/plain": [
       "(54058, 60, 41, 2)"
      ]
     },
     "execution_count": 48,
     "metadata": {},
     "output_type": "execute_result"
    }
   ],
   "source": [
    "cnnfeaturesFULL = np.array(cnnfeaturesFULL)\n",
    "rnnfeaturesFULL = np.array(rnnfeaturesFULL)\n",
    "\n",
    "cnnfeaturesFULL.shape"
   ]
  },
  {
   "cell_type": "code",
   "execution_count": 45,
   "metadata": {},
   "outputs": [
    {
     "data": {
      "text/plain": [
       "Text(0.5,1,'distribution of target classes')"
      ]
     },
     "execution_count": 45,
     "metadata": {},
     "output_type": "execute_result"
    },
    {
     "data": {
      "image/png": "[encoded data removed]",
      "text/plain": [
       "<Figure size 432x288 with 1 Axes>"
      ]
     },
     "metadata": {},
     "output_type": "display_data"
    }
   ],
   "source": [
    "plt.hist(labels, bins=np.arange(11)-0.5, rwidth=0.8 )\n",
    "plt.title('distribution of target classes')"
   ]
  },
  {
   "cell_type": "code",
   "execution_count": 39,
   "metadata": {},
   "outputs": [
    {
     "name": "stdout",
     "output_type": "stream",
     "text": [
      "Labels\n",
      "Number of classes: \t10\n",
      "\n",
      "MLP data\n",
      "Number of predictors: \t186\n",
      "Number of instances: \t8319\n",
      "\n",
      "CNN data\n",
      "Number of predictors: \t2460\n",
      "Number of instances: \t54058\n",
      "Number of channels: \t2\n",
      "\n",
      "RNN data\n",
      "Number of predictors: \t20\n",
      "Number of instances: \t54058\n",
      "Number of steps: \t41\n",
      "\n",
      "Features ready\n",
      "Labels ready\n"
     ]
    }
   ],
   "source": [
    "n_classes = len(set(labels))\n",
    "print('Labels')\n",
    "print(\"Number of classes: \\t%s\" %(n_classes))\n",
    "\n",
    "n_instances_mlp = mlpfeatures.shape[0]\n",
    "n_inputs_mlp = mlpfeatures.shape[1]\n",
    "print(\"\")\n",
    "print('MLP data')\n",
    "print(\"Number of predictors: \\t%s\" %(n_inputs_mlp))\n",
    "print(\"Number of instances: \\t%s\" %(n_instances_mlp))\n",
    "\n",
    "n_instances_cnn = cnnfeaturesFULL.shape[0]\n",
    "n_inputs_cnn = cnnfeaturesFULL.shape[1]*cnnfeaturesFULL.shape[2]\n",
    "n_channels = cnnfeaturesFULL[0].shape[-1]\n",
    "print(\"\")\n",
    "print('CNN data')\n",
    "print(\"Number of predictors: \\t%s\" %(n_inputs_cnn))\n",
    "print(\"Number of instances: \\t%s\" %(n_instances_cnn))\n",
    "print(\"Number of channels: \\t%s\" %(n_channels))\n",
    "\n",
    "n_instances_rnn = rnnfeaturesFULL.shape[0]\n",
    "n_inputs_rnn = rnnfeaturesFULL.shape[1]\n",
    "n_steps = rnnfeaturesFULL.shape[2]\n",
    "print(\"\")\n",
    "print('RNN data')\n",
    "print(\"Number of predictors: \\t%s\" %(n_inputs_rnn))\n",
    "print(\"Number of instances: \\t%s\" %(n_instances_cnn))\n",
    "print(\"Number of steps: \\t%s\" %(n_steps))\n",
    "print(\"\")\n",
    "\n",
    "# rescaling to avoid geometric bias towards any MLP features\n",
    "scaler = MinMaxScaler(feature_range=(0,1))\n",
    "mlpfeatures = scaler.fit_transform(mlpfeatures)\n",
    "print(\"Features ready\")\n",
    "\n",
    "# one-hot encoding for the audio classes\n",
    "encoder = LabelBinarizer()\n",
    "mlplabels = encoder.fit_transform(labels)\n",
    "cnnlabels = encoder.fit_transform(labelsFULL)\n",
    "rnnlabels = cnnlabels\n",
    "print(\"Labels ready\")"
   ]
  },
  {
   "cell_type": "code",
   "execution_count": 40,
   "metadata": {},
   "outputs": [
    {
     "name": "stdout",
     "output_type": "stream",
     "text": [
      "MLP:\n",
      "Train set size: 5823\n",
      "Test set size: 2496\n",
      "\n",
      "CNN:\n",
      "Train set size: 37840\n",
      "Test set size: 16218\n",
      "\n",
      "RNN:\n",
      "Train set size: 37840\n",
      "Test set size: 16218\n"
     ]
    }
   ],
   "source": [
    "# shuffle and split - stratified because of label imbalance\n",
    "splitseed = 2\n",
    "sss = StratifiedShuffleSplit(n_splits=10, test_size=0.3, random_state=splitseed)\n",
    "for train_index, test_index in sss.split(mlpfeatures, mlplabels):\n",
    "    X_train_mlp, X_test_mlp = mlpfeatures[train_index], mlpfeatures[test_index]\n",
    "    y_train_mlp, y_test_mlp = mlplabels[train_index], mlplabels[test_index]\n",
    "for train_index, test_index in sss.split(cnnfeaturesFULL, cnnlabels):\n",
    "    X_train_cnn, X_test_cnn = cnnfeaturesFULL[train_index], cnnfeaturesFULL[test_index]\n",
    "    y_train_cnn, y_test_cnn = cnnlabels[train_index], cnnlabels[test_index]\n",
    "for train_index, test_index in sss.split(rnnfeaturesFULL, rnnlabels):\n",
    "    X_train_rnn, X_test_rnn = rnnfeaturesFULL[train_index], rnnfeaturesFULL[test_index]\n",
    "    y_train_rnn, y_test_rnn = rnnlabels[train_index], rnnlabels[test_index]\n",
    "    \n",
    "print('MLP:')\n",
    "print('Train set size: {0}'.format(X_train_mlp.shape[0]))\n",
    "print('Test set size: {0}'.format(X_test_mlp.shape[0]))\n",
    "print(\"\")\n",
    "print('CNN:')\n",
    "print('Train set size: {0}'.format(X_train_cnn.shape[0]))\n",
    "print('Test set size: {0}'.format(X_test_cnn.shape[0]))\n",
    "print(\"\")\n",
    "print('RNN:')\n",
    "print('Train set size: {0}'.format(X_train_rnn.shape[0]))\n",
    "print('Test set size: {0}'.format(X_test_rnn.shape[0]))"
   ]
  },
  {
   "cell_type": "code",
   "execution_count": 41,
   "metadata": {},
   "outputs": [
    {
     "name": "stdout",
     "output_type": "stream",
     "text": [
      "Data saved\n"
     ]
    }
   ],
   "source": [
    "# save the train and test subsets for future use\n",
    "\n",
    "np.save(\"X_train_mlp\", X_train_mlp)\n",
    "np.save(\"X_test_mlp\", X_test_mlp)\n",
    "np.save(\"y_train_mlp\", y_train_mlp)\n",
    "np.save(\"y_test_mlp\", y_test_mlp)\n",
    "\n",
    "np.save(\"X_train_cnn\", X_train_cnn)\n",
    "np.save(\"X_test_cnn\", X_test_cnn)\n",
    "np.save(\"y_train_cnn\", y_train_cnn)\n",
    "np.save(\"y_test_cnn\", y_test_cnn)\n",
    "\n",
    "np.save(\"X_train_rnn\", X_train_rnn)\n",
    "np.save(\"X_test_rnn\", X_test_rnn)\n",
    "np.save(\"y_train_rnn\", y_train_rnn)\n",
    "np.save(\"y_test_rnn\", y_test_rnn)\n",
    "\n",
    "print(\"Data saved\")"
   ]
  },
  {
   "cell_type": "code",
   "execution_count": null,
   "metadata": {},
   "outputs": [],
   "source": []
  }
 ],
 "metadata": {
  "kernelspec": {
   "display_name": "Python 3",
   "language": "python",
   "name": "python3"
  },
  "language_info": {
   "codemirror_mode": {
    "name": "ipython",
    "version": 3
   },
   "file_extension": ".py",
   "mimetype": "text/x-python",
   "name": "python",
   "nbconvert_exporter": "python",
   "pygments_lexer": "ipython3",
   "version": "3.6.5"
  }
 },
 "nbformat": 4,
 "nbformat_minor": 2
}
